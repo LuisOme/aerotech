{
 "cells": [
  {
   "cell_type": "markdown",
   "metadata": {},
   "source": [
    "Develop unit tests for aerotech Ensemble class.\n",
    "For mocker advice: https://stackoverflow.com/questions/36888882/how-to-mock-a-socket-object-via-the-mock-library\n",
    "\n",
    "For unittest example: https://github.com/robmarkcole/TrasportAPI-HASS/blob/master/RC_Transport_API%20%2021-7-2017.ipynb"
   ]
  },
  {
   "cell_type": "code",
   "execution_count": 1,
   "metadata": {
    "collapsed": false
   },
   "outputs": [
    {
     "name": "stdout",
     "output_type": "stream",
     "text": [
      "3.6.0 |Anaconda 4.3.1 (64-bit)| (default, Dec 23 2016, 11:57:41) [MSC v.1900 64 bit (AMD64)]\n"
     ]
    }
   ],
   "source": [
    "import sys\n",
    "print(sys.version)\n",
    "import time\n",
    "\n",
    "from aerotech import Ensemble\n",
    "import unittest\n",
    "from unittest import mock\n",
    "import socket"
   ]
  },
  {
   "cell_type": "markdown",
   "metadata": {},
   "source": [
    "## Investigate mocker\n",
    "Mocker could be used for unittest in the absence of the Ensmble emulator"
   ]
  },
  {
   "cell_type": "code",
   "execution_count": 2,
   "metadata": {
    "collapsed": false
   },
   "outputs": [],
   "source": [
    "# test class\n",
    "\n",
    "import python_utils as utils\n",
    "\n",
    "class TCPSocket:\n",
    "    def __init__(self):\n",
    "        self.buf = ''\n",
    "\n",
    "    def __enter__(self):\n",
    "        pass\n",
    "\n",
    "    def __exit__(self, exc_type, exc_val, exc_tb):\n",
    "        self.close()\n",
    "\n",
    "    def connect(self, host, port):\n",
    "        self.sock = socket.socket(socket.AF_INET, socket.SOCK_STREAM)\n",
    "        self.sock.connect((host, port))\n",
    "\n",
    "    def close(self):\n",
    "        self.sock.close()\n",
    "\n",
    "    def send(self, data):\n",
    "        self.sock.send(data)\n",
    "\n",
    "    def sendall(self, data):\n",
    "        self.sock.sendall(data)\n",
    "\n",
    "    # For best match with hardware and network realities,\n",
    "    # the value of limit should be a relatively small power of 2, for example, 4096\n",
    "    def recv_some(self, limit=4096):\n",
    "        return self.sock.recv(limit)"
   ]
  },
  {
   "cell_type": "code",
   "execution_count": 3,
   "metadata": {
    "collapsed": false
   },
   "outputs": [
    {
     "data": {
      "text/plain": [
       "b'\\x04\\x00'"
      ]
     },
     "execution_count": 3,
     "metadata": {},
     "output_type": "execute_result"
    }
   ],
   "source": [
    "(1024).to_bytes(2, byteorder='big')#.decode(\"utf-8\") "
   ]
  },
  {
   "cell_type": "code",
   "execution_count": 4,
   "metadata": {
    "collapsed": false
   },
   "outputs": [
    {
     "name": "stderr",
     "output_type": "stream",
     "text": [
      "test_class (__main__.TestSensor) ... "
     ]
    },
    {
     "name": "stdout",
     "output_type": "stream",
     "text": [
      "test_return\n"
     ]
    },
    {
     "name": "stderr",
     "output_type": "stream",
     "text": [
      "ok\n",
      "\n",
      "----------------------------------------------------------------------\n",
      "Ran 1 test in 0.003s\n",
      "\n",
      "OK\n"
     ]
    },
    {
     "data": {
      "text/plain": [
       "<unittest.main.TestProgram at 0x5645828>"
      ]
     },
     "execution_count": 4,
     "metadata": {},
     "output_type": "execute_result"
    }
   ],
   "source": [
    "class TestSensor(unittest.TestCase):\n",
    "    \n",
    "    def test_class(self): \n",
    "        mock_bytes = (1024).to_bytes(2, byteorder='big')\n",
    "        count = 4096\n",
    "        with mock.patch('socket.socket') as mock_socket:\n",
    "            mock_socket.return_value.recv.return_value = \"test_return\"\n",
    "            t = TCPSocket()\n",
    "            t.connect('example.com', 12345)  # t.sock is a mock object, not a Socket\n",
    "            print(t.recv_some())\n",
    "            \n",
    "            self.assertEqual(t.recv_some(), \"test_return\")\n",
    "            t.sock.connect.assert_called_with(('example.com', 12345))\n",
    "            \n",
    "unittest.main(argv=['ignored', '-v'], exit=False)"
   ]
  },
  {
   "cell_type": "markdown",
   "metadata": {
    "collapsed": true
   },
   "source": [
    "## Ensemble test\n",
    "Test with emulator running rather than mocker"
   ]
  },
  {
   "cell_type": "code",
   "execution_count": 5,
   "metadata": {
    "collapsed": false
   },
   "outputs": [],
   "source": [
    "ip = 'localhost'\n",
    "port = 8000\n",
    "\n",
    "my_ensemble = Ensemble(ip, port)\n",
    "my_ensemble.connect()\n",
    "\n",
    "my_ensemble.move(1, 10, 5.5)\n",
    "\n",
    "my_ensemble.get_positions()['X']\n",
    "my_ensemble.close()"
   ]
  },
  {
   "cell_type": "code",
   "execution_count": 7,
   "metadata": {
    "collapsed": false
   },
   "outputs": [
    {
     "name": "stderr",
     "output_type": "stream",
     "text": [
      "test_ensemble (__main__.Test) ... ok\n",
      "test_class (__main__.TestSensor) ... "
     ]
    },
    {
     "name": "stdout",
     "output_type": "stream",
     "text": [
      "test_return\n"
     ]
    },
    {
     "name": "stderr",
     "output_type": "stream",
     "text": [
      "ok\n",
      "\n",
      "----------------------------------------------------------------------\n",
      "Ran 2 tests in 2.009s\n",
      "\n",
      "OK\n"
     ]
    },
    {
     "data": {
      "text/plain": [
       "<unittest.main.TestProgram at 0x568a2e8>"
      ]
     },
     "execution_count": 7,
     "metadata": {},
     "output_type": "execute_result"
    }
   ],
   "source": [
    "class Test(unittest.TestCase):\n",
    "    def setUp(self):\n",
    "        self.my_ensemble = Ensemble(ip, port)\n",
    "        self.my_ensemble.connect()\n",
    "        self.my_ensemble.move(1, 10, 5.5) \n",
    "        time.sleep(2)\n",
    "        \n",
    "    def test_ensemble(self):              \n",
    "        self.assertEqual(self.my_ensemble.get_positions()['X'], 1.0)\n",
    "        \n",
    "    def tearDown(self):\n",
    "        self.my_ensemble.close()\n",
    "            \n",
    "unittest.main(argv=['ignored', '-v'], exit=False)"
   ]
  },
  {
   "cell_type": "code",
   "execution_count": null,
   "metadata": {
    "collapsed": true
   },
   "outputs": [],
   "source": []
  }
 ],
 "metadata": {
  "kernelspec": {
   "display_name": "Python 3",
   "language": "python",
   "name": "python3"
  },
  "language_info": {
   "codemirror_mode": {
    "name": "ipython",
    "version": 3
   },
   "file_extension": ".py",
   "mimetype": "text/x-python",
   "name": "python",
   "nbconvert_exporter": "python",
   "pygments_lexer": "ipython3",
   "version": "3.6.0"
  }
 },
 "nbformat": 4,
 "nbformat_minor": 2
}
